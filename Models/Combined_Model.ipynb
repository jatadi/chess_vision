{
  "nbformat": 4,
  "nbformat_minor": 0,
  "metadata": {
    "colab": {
      "provenance": []
    },
    "kernelspec": {
      "name": "python3",
      "display_name": "Python 3"
    },
    "language_info": {
      "name": "python"
    }
  },
  "cells": [
    {
      "cell_type": "code",
      "execution_count": null,
      "metadata": {
        "id": "b_p4zTZqB5jT",
        "colab": {
          "base_uri": "https://localhost:8080/"
        },
        "outputId": "09669640-9742-4139-c496-9569abb316f0"
      },
      "outputs": [
        {
          "output_type": "stream",
          "name": "stdout",
          "text": [
            "Mounted at /content/gdrive\n"
          ]
        }
      ],
      "source": [
        "# Import necessary libraries\n",
        "import os\n",
        "import numpy as np\n",
        "import tensorflow as tf\n",
        "from tensorflow.keras.models import load_model\n",
        "from tensorflow.keras.preprocessing import image\n",
        "import random\n",
        "\n",
        "\n",
        "# Mount Google Drive\n",
        "from google.colab import drive\n",
        "drive.mount('/content/gdrive')\n"
      ]
    },
    {
      "cell_type": "code",
      "source": [
        "# Define model paths\n",
        "knight_model_path = '/content/gdrive/My Drive/Datasets/knight_detector_saved_model'\n",
        "rook_model_path = '/content/gdrive/My Drive/Datasets/rook_detector_saved_model'\n",
        "bishop_model_path = '/content/gdrive/My Drive/Datasets/bishop_detector_saved_model'\n",
        "queen_model_path = '/content/gdrive/My Drive/Datasets/queen_detector_saved_model'\n",
        "king_model_path = '/content/gdrive/My Drive/Datasets/king_detector_saved_model'\n",
        "pawn_model_path = '/content/gdrive/My Drive/Datasets/pawn_detector_saved_model'\n"
      ],
      "metadata": {
        "id": "ZQIxt-yZCGrG"
      },
      "execution_count": null,
      "outputs": []
    },
    {
      "cell_type": "code",
      "source": [
        "# Load models\n",
        "knight_model = load_model(knight_model_path)\n",
        "rook_model = load_model(rook_model_path)\n",
        "bishop_model = load_model(bishop_model_path)\n",
        "queen_model = load_model(queen_model_path)\n",
        "king_model = load_model(king_model_path)\n",
        "pawn_model = load_model(pawn_model_path)\n",
        "\n",
        "\n",
        "#calibrated_binary_model = joblib.load('/content/gdrive/My Drive/Datasets/knight_detector_calibrated_model.pkl')"
      ],
      "metadata": {
        "id": "kg9b5re0CINb"
      },
      "execution_count": null,
      "outputs": []
    },
    {
      "cell_type": "code",
      "source": [
        "def preprocess_image(img_path, target_size=(224, 224)):\n",
        "    img = image.load_img(img_path, target_size=target_size)\n",
        "    img_array = image.img_to_array(img)\n",
        "    img_array = np.expand_dims(img_array, axis=0)\n",
        "    img_array /= 255.0\n",
        "    return img_array\n"
      ],
      "metadata": {
        "id": "y69h8M_lCJOT"
      },
      "execution_count": null,
      "outputs": []
    },
    {
      "cell_type": "code",
      "source": [
        "model_weights = {\n",
        "    'Knight': 0.1908,\n",
        "    'Bishop': 0.1622,\n",
        "    'Rook': 0.1635,\n",
        "    'Queen': 0.1506,\n",
        "    'King': 0.1607,\n",
        "    'Pawn': 0.1722\n",
        "}\n",
        "\n",
        "\n",
        "\n",
        "\n",
        "def predict_chess_piece(img_path):\n",
        "    processed_image = preprocess_image(img_path)\n",
        "\n",
        "    # Get predictions from each model\n",
        "    knight_pred = knight_model.predict(processed_image)\n",
        "    print(\"Knight Prediction:\", knight_pred)\n",
        "    bishop_pred = bishop_model.predict(processed_image)\n",
        "    print(\"Bishop Prediction:\", bishop_pred)\n",
        "    rook_pred = rook_model.predict(processed_image)\n",
        "    print(\"Rook Prediction:\", rook_pred)\n",
        "    queen_pred = queen_model.predict(processed_image)\n",
        "    print(\"Queen Prediction:\", queen_pred)\n",
        "    king_pred = king_model.predict(processed_image)\n",
        "    print(\"King Prediction:\", king_pred)\n",
        "    pawn_pred = pawn_model.predict(processed_image)\n",
        "    print(\"Pawn Prediction:\", pawn_pred)\n",
        "\n",
        "    # Apply weights to the predictions\n",
        "    weighted_predictions = np.array([\n",
        "        knight_pred * model_weights['Knight'],\n",
        "        bishop_pred * model_weights['Bishop'],\n",
        "        rook_pred * model_weights['Rook'],\n",
        "        queen_pred * model_weights['Queen'],\n",
        "        king_pred * model_weights['King'],\n",
        "        pawn_pred * model_weights['Pawn']\n",
        "    ])\n",
        "\n",
        "    # Determine the final prediction\n",
        "    predicted_piece_index = np.argmax(weighted_predictions.sum(axis=0))\n",
        "    pieces = [\"Knight\", \"Bishop\", \"Rook\", \"Queen\", \"King\", \"Pawn\"]\n",
        "    return pieces[predicted_piece_index]\n"
      ],
      "metadata": {
        "id": "vPb8nmuzCJ9w"
      },
      "execution_count": null,
      "outputs": []
    },
    {
      "cell_type": "code",
      "source": [
        "# Function to Randomly Select Images\n",
        "categories = [\"Knight\", \"Rook\", \"Bishop\", \"Queen\", \"King\", \"Pawn\"]\n",
        "dataset_dir = '/content/gdrive/My Drive/Datasets/Chess_Vision'\n",
        "\n",
        "def get_random_images(num_images=5):\n",
        "    selected_images = []\n",
        "    for category in categories:\n",
        "        category_path = os.path.join(dataset_dir, category)\n",
        "        images = os.listdir(category_path)\n",
        "        num_to_sample = min(len(images), num_images)  # Sample up to the available number\n",
        "        selected_images.extend(random.sample([(os.path.join(category_path, img), category) for img in images], num_to_sample))\n",
        "    return selected_images\n",
        "\n",
        "\n",
        "# Testing Function\n",
        "def test_random_images(num_images):\n",
        "    random_images = get_random_images(num_images)\n",
        "    correct_predictions = 0\n",
        "\n",
        "    for img_path, true_label in random_images:\n",
        "        predicted_label = predict_chess_piece(img_path)\n",
        "        print(f\"Image: {img_path}, True Label: {true_label}, Predicted Label: {predicted_label}\")\n",
        "        if predicted_label == true_label:\n",
        "            correct_predictions += 1\n",
        "\n",
        "    accuracy = correct_predictions / (num_images * 6)\n",
        "    return accuracy\n",
        "\n"
      ],
      "metadata": {
        "id": "WIsp7i91EM_8"
      },
      "execution_count": null,
      "outputs": []
    },
    {
      "cell_type": "code",
      "source": [
        "known_images = [\n",
        "    (\"/content/gdrive/My Drive/Datasets/Chess_Vision/Knight/00000190.jpg\", \"Knight\"),\n",
        "    (\"/content/gdrive/My Drive/Datasets/Chess_Vision/Pawn/00000199.jpg\", \"Pawn\"),\n",
        "    # Add more images and their true labels\n",
        "]\n",
        "\n",
        "for img_path, true_label in known_images:\n",
        "    predicted_label = predict_chess_piece(img_path)\n",
        "    print(f\"Image: {img_path}, True Label: {true_label}, Predicted Label: {predicted_label}\")\n"
      ],
      "metadata": {
        "colab": {
          "base_uri": "https://localhost:8080/"
        },
        "id": "dxcfwunvXmU5",
        "outputId": "ac54799e-d7ee-4862-c696-5c66018229aa"
      },
      "execution_count": null,
      "outputs": [
        {
          "output_type": "stream",
          "name": "stdout",
          "text": [
            "1/1 [==============================] - 2s 2s/step\n",
            "Knight Prediction: [[0.00221035]]\n",
            "1/1 [==============================] - 1s 1s/step\n",
            "Bishop Prediction: [[0.9752566]]\n",
            "1/1 [==============================] - 1s 1s/step\n",
            "Rook Prediction: [[0.00671336]]\n",
            "1/1 [==============================] - 1s 974ms/step\n",
            "Queen Prediction: [[0.11606818]]\n"
          ]
        },
        {
          "output_type": "stream",
          "name": "stderr",
          "text": [
            "WARNING:tensorflow:5 out of the last 5 calls to <function Model.make_predict_function.<locals>.predict_function at 0x7abb1280d360> triggered tf.function retracing. Tracing is expensive and the excessive number of tracings could be due to (1) creating @tf.function repeatedly in a loop, (2) passing tensors with different shapes, (3) passing Python objects instead of tensors. For (1), please define your @tf.function outside of the loop. For (2), @tf.function has reduce_retracing=True option that can avoid unnecessary retracing. For (3), please refer to https://www.tensorflow.org/guide/function#controlling_retracing and https://www.tensorflow.org/api_docs/python/tf/function for  more details.\n"
          ]
        },
        {
          "output_type": "stream",
          "name": "stdout",
          "text": [
            "1/1 [==============================] - 1s 728ms/step\n",
            "King Prediction: [[0.989821]]\n"
          ]
        },
        {
          "output_type": "stream",
          "name": "stderr",
          "text": [
            "WARNING:tensorflow:6 out of the last 6 calls to <function Model.make_predict_function.<locals>.predict_function at 0x7abb1280da20> triggered tf.function retracing. Tracing is expensive and the excessive number of tracings could be due to (1) creating @tf.function repeatedly in a loop, (2) passing tensors with different shapes, (3) passing Python objects instead of tensors. For (1), please define your @tf.function outside of the loop. For (2), @tf.function has reduce_retracing=True option that can avoid unnecessary retracing. For (3), please refer to https://www.tensorflow.org/guide/function#controlling_retracing and https://www.tensorflow.org/api_docs/python/tf/function for  more details.\n"
          ]
        },
        {
          "output_type": "stream",
          "name": "stdout",
          "text": [
            "1/1 [==============================] - 1s 709ms/step\n",
            "Pawn Prediction: [[0.04673212]]\n",
            "Image: /content/gdrive/My Drive/Datasets/Chess_Vision/Knight/00000190.jpg, True Label: Knight, Predicted Label: Knight\n",
            "1/1 [==============================] - 1s 532ms/step\n",
            "Knight Prediction: [[0.9987946]]\n",
            "1/1 [==============================] - 1s 548ms/step\n",
            "Bishop Prediction: [[0.55481386]]\n",
            "1/1 [==============================] - 1s 594ms/step\n",
            "Rook Prediction: [[0.14208758]]\n",
            "1/1 [==============================] - 1s 582ms/step\n",
            "Queen Prediction: [[0.30714574]]\n",
            "1/1 [==============================] - 1s 596ms/step\n",
            "King Prediction: [[0.44536817]]\n",
            "1/1 [==============================] - 1s 562ms/step\n",
            "Pawn Prediction: [[0.97517294]]\n",
            "Image: /content/gdrive/My Drive/Datasets/Chess_Vision/Pawn/00000199.jpg, True Label: Pawn, Predicted Label: Knight\n"
          ]
        }
      ]
    },
    {
      "cell_type": "code",
      "source": [
        "def test_individual_model(model, test_images, expected_label):\n",
        "    correct_predictions = 0\n",
        "\n",
        "    for img_path in test_images:\n",
        "        processed_image = preprocess_image(img_path)\n",
        "        prediction = model.predict(processed_image)\n",
        "        predicted_label = \"Yes\" if prediction[0][0] > 0.5 else \"No\"\n",
        "\n",
        "        if (predicted_label == expected_label):\n",
        "            correct_predictions += 1\n",
        "\n",
        "        print(f\"Image: {img_path}, Predicted Label: {predicted_label}\")\n",
        "\n",
        "    accuracy = correct_predictions / 2\n",
        "    print(f\"Accuracy for {expected_label}: {accuracy * 100}%\")\n",
        "\n",
        "# Example usage - test knight model\n",
        "knight_test_images = [\"/content/gdrive/My Drive/Datasets/Chess_Vision/Knight/00000190.jpg\", \"/content/gdrive/My Drive/Datasets/Chess_Vision/Knight/00000197.jpg\"]\n",
        "bishop_test_images = [\"/content/gdrive/My Drive/Datasets/Chess_Vision/Bishop/00000199.jpg\", \"/content/gdrive/My Drive/Datasets/Chess_Vision/Bishop/00000192.jpg\"]\n",
        "test_individual_model(bishop_model, bishop_test_images, \"Yes\")\n",
        "rook_test_images = [\"/content/gdrive/My Drive/Datasets/Chess_Vision/Rook/00000189.jpg\", \"/content/gdrive/My Drive/Datasets/Chess_Vision/Rook/00000185.jpg\"]\n",
        "test_individual_model(rook_model, rook_test_images, \"Yes\")\n",
        "queen_test_images = [\"/content/gdrive/My Drive/Datasets/Chess_Vision/Queen/00000279.jpg\", \"/content/gdrive/My Drive/Datasets/Chess_Vision/Queen/00000219.jpg\"]\n",
        "test_individual_model(queen_model, queen_test_images, \"Yes\")\n",
        "king_test_images = [\"/content/gdrive/My Drive/Datasets/Chess_Vision/King/00000167.jpg\", \"/content/gdrive/My Drive/Datasets/Chess_Vision/King/00000175.jpg\"]\n",
        "test_individual_model(king_model, king_test_images, \"Yes\")\n",
        "pawn_test_images = [\"/content/gdrive/My Drive/Datasets/Chess_Vision/Pawn/00000139.jpg\", \"/content/gdrive/My Drive/Datasets/Chess_Vision/Pawn/00000140.jpg\"]\n",
        "test_individual_model(pawn_model, pawn_test_images, \"Yes\")"
      ],
      "metadata": {
        "colab": {
          "base_uri": "https://localhost:8080/"
        },
        "id": "vUqpp8EkZJk9",
        "outputId": "569fb6ec-e43a-4da7-98eb-3f862b359fae"
      },
      "execution_count": null,
      "outputs": [
        {
          "output_type": "stream",
          "name": "stdout",
          "text": [
            "1/1 [==============================] - 1s 896ms/step\n",
            "Image: /content/gdrive/My Drive/Datasets/Chess_Vision/Knight/00000190.jpg, Predicted Label: No\n",
            "1/1 [==============================] - 1s 534ms/step\n",
            "Image: /content/gdrive/My Drive/Datasets/Chess_Vision/Knight/00000197.jpg, Predicted Label: No\n",
            "Accuracy for Yes: 0.0%\n",
            "1/1 [==============================] - 1s 538ms/step\n",
            "Image: /content/gdrive/My Drive/Datasets/Chess_Vision/Bishop/00000199.jpg, Predicted Label: No\n",
            "1/1 [==============================] - 1s 551ms/step\n",
            "Image: /content/gdrive/My Drive/Datasets/Chess_Vision/Bishop/00000192.jpg, Predicted Label: No\n",
            "Accuracy for Yes: 0.0%\n",
            "1/1 [==============================] - 1s 557ms/step\n",
            "Image: /content/gdrive/My Drive/Datasets/Chess_Vision/Rook/00000189.jpg, Predicted Label: Yes\n",
            "1/1 [==============================] - 1s 546ms/step\n",
            "Image: /content/gdrive/My Drive/Datasets/Chess_Vision/Rook/00000185.jpg, Predicted Label: Yes\n",
            "Accuracy for Yes: 100.0%\n",
            "1/1 [==============================] - 1s 538ms/step\n",
            "Image: /content/gdrive/My Drive/Datasets/Chess_Vision/Queen/00000279.jpg, Predicted Label: Yes\n",
            "1/1 [==============================] - 1s 538ms/step\n",
            "Image: /content/gdrive/My Drive/Datasets/Chess_Vision/Queen/00000219.jpg, Predicted Label: Yes\n",
            "Accuracy for Yes: 100.0%\n",
            "1/1 [==============================] - 1s 537ms/step\n",
            "Image: /content/gdrive/My Drive/Datasets/Chess_Vision/King/00000167.jpg, Predicted Label: No\n",
            "1/1 [==============================] - 1s 545ms/step\n",
            "Image: /content/gdrive/My Drive/Datasets/Chess_Vision/King/00000175.jpg, Predicted Label: No\n",
            "Accuracy for Yes: 0.0%\n",
            "1/1 [==============================] - 1s 530ms/step\n",
            "Image: /content/gdrive/My Drive/Datasets/Chess_Vision/Pawn/00000139.jpg, Predicted Label: Yes\n",
            "1/1 [==============================] - 1s 526ms/step\n",
            "Image: /content/gdrive/My Drive/Datasets/Chess_Vision/Pawn/00000140.jpg, Predicted Label: Yes\n",
            "Accuracy for Yes: 100.0%\n"
          ]
        }
      ]
    },
    {
      "cell_type": "code",
      "source": [
        "# Example usage\n",
        "accuracy = test_random_images(1)\n",
        "print(f\"Accuracy on 100 random images: {accuracy * 100}%\")"
      ],
      "metadata": {
        "id": "rqfgTpHCCLDk",
        "colab": {
          "base_uri": "https://localhost:8080/"
        },
        "outputId": "b9fce1d4-81ec-475a-e057-32293b01f089"
      },
      "execution_count": null,
      "outputs": [
        {
          "output_type": "stream",
          "name": "stdout",
          "text": [
            "1/1 [==============================] - 1s 550ms/step\n",
            "Knight Prediction: [[0.04918201]]\n",
            "1/1 [==============================] - 1s 541ms/step\n",
            "Bishop Prediction: [[0.76670754]]\n",
            "1/1 [==============================] - 1s 558ms/step\n",
            "Rook Prediction: [[0.02955765]]\n",
            "1/1 [==============================] - 1s 543ms/step\n",
            "Queen Prediction: [[0.10941649]]\n",
            "1/1 [==============================] - 1s 563ms/step\n",
            "King Prediction: [[0.96038264]]\n",
            "1/1 [==============================] - 1s 543ms/step\n",
            "Pawn Prediction: [[0.05448903]]\n",
            "Image: /content/gdrive/My Drive/Datasets/Chess_Vision/Knight/00000092.jpg, True Label: Knight, Predicted Label: Knight\n",
            "1/1 [==============================] - 1s 527ms/step\n",
            "Knight Prediction: [[0.99997276]]\n",
            "1/1 [==============================] - 1s 554ms/step\n",
            "Bishop Prediction: [[0.9943134]]\n",
            "1/1 [==============================] - 1s 531ms/step\n",
            "Rook Prediction: [[0.9993575]]\n",
            "1/1 [==============================] - 1s 600ms/step\n",
            "Queen Prediction: [[0.32857105]]\n",
            "1/1 [==============================] - 1s 932ms/step\n",
            "King Prediction: [[0.9618686]]\n",
            "1/1 [==============================] - 1s 944ms/step\n",
            "Pawn Prediction: [[0.03619372]]\n",
            "Image: /content/gdrive/My Drive/Datasets/Chess_Vision/Rook/00000021.jpg, True Label: Rook, Predicted Label: Knight\n",
            "1/1 [==============================] - 1s 901ms/step\n",
            "Knight Prediction: [[0.99986184]]\n",
            "1/1 [==============================] - 1s 868ms/step\n",
            "Bishop Prediction: [[0.14019164]]\n",
            "1/1 [==============================] - 1s 931ms/step\n",
            "Rook Prediction: [[0.01932268]]\n",
            "1/1 [==============================] - 1s 895ms/step\n",
            "Queen Prediction: [[0.22339484]]\n",
            "1/1 [==============================] - 1s 560ms/step\n",
            "King Prediction: [[0.9642079]]\n",
            "1/1 [==============================] - 1s 530ms/step\n",
            "Pawn Prediction: [[0.6191617]]\n",
            "Image: /content/gdrive/My Drive/Datasets/Chess_Vision/Bishop/00000001.jpg, True Label: Bishop, Predicted Label: Knight\n",
            "1/1 [==============================] - 1s 548ms/step\n",
            "Knight Prediction: [[0.99999654]]\n",
            "1/1 [==============================] - 1s 540ms/step\n",
            "Bishop Prediction: [[0.9564963]]\n",
            "1/1 [==============================] - 1s 531ms/step\n",
            "Rook Prediction: [[0.01292095]]\n",
            "1/1 [==============================] - 1s 559ms/step\n",
            "Queen Prediction: [[0.7587643]]\n",
            "1/1 [==============================] - 1s 536ms/step\n",
            "King Prediction: [[0.3364698]]\n",
            "1/1 [==============================] - 1s 565ms/step\n",
            "Pawn Prediction: [[0.01360722]]\n",
            "Image: /content/gdrive/My Drive/Datasets/Chess_Vision/Queen/00000061.jpg, True Label: Queen, Predicted Label: Knight\n",
            "1/1 [==============================] - 1s 544ms/step\n",
            "Knight Prediction: [[0.9999603]]\n",
            "1/1 [==============================] - 1s 542ms/step\n",
            "Bishop Prediction: [[0.2863193]]\n",
            "1/1 [==============================] - 1s 552ms/step\n",
            "Rook Prediction: [[0.08383705]]\n",
            "1/1 [==============================] - 1s 536ms/step\n",
            "Queen Prediction: [[0.4693331]]\n",
            "1/1 [==============================] - 1s 544ms/step\n",
            "King Prediction: [[0.20108698]]\n",
            "1/1 [==============================] - 1s 537ms/step\n",
            "Pawn Prediction: [[0.04236042]]\n",
            "Image: /content/gdrive/My Drive/Datasets/Chess_Vision/King/00000096.jpg, True Label: King, Predicted Label: Knight\n",
            "1/1 [==============================] - 1s 530ms/step\n",
            "Knight Prediction: [[0.9998452]]\n",
            "1/1 [==============================] - 1s 731ms/step\n",
            "Bishop Prediction: [[0.51243764]]\n",
            "1/1 [==============================] - 1s 918ms/step\n",
            "Rook Prediction: [[0.3504519]]\n",
            "1/1 [==============================] - 1s 949ms/step\n",
            "Queen Prediction: [[0.3373355]]\n",
            "1/1 [==============================] - 1s 934ms/step\n",
            "King Prediction: [[0.8172338]]\n",
            "1/1 [==============================] - 1s 846ms/step\n",
            "Pawn Prediction: [[0.9594667]]\n",
            "Image: /content/gdrive/My Drive/Datasets/Chess_Vision/Pawn/00000058.jpg, True Label: Pawn, Predicted Label: Knight\n",
            "Accuracy on 100 random images: 16.666666666666664%\n"
          ]
        }
      ]
    }
  ]
}