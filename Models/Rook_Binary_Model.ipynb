{
  "nbformat": 4,
  "nbformat_minor": 0,
  "metadata": {
    "colab": {
      "provenance": []
    },
    "kernelspec": {
      "name": "python3",
      "display_name": "Python 3"
    },
    "language_info": {
      "name": "python"
    }
  },
  "cells": [
    {
      "cell_type": "code",
      "execution_count": 2,
      "metadata": {
        "colab": {
          "base_uri": "https://localhost:8080/"
        },
        "id": "pDnmbSPqVEE-",
        "outputId": "cc6461e8-b632-4e08-c2fe-8cf35b69dc1a"
      },
      "outputs": [
        {
          "output_type": "stream",
          "name": "stdout",
          "text": [
            "Collecting split-folders\n",
            "  Downloading split_folders-0.5.1-py3-none-any.whl (8.4 kB)\n",
            "Installing collected packages: split-folders\n",
            "Successfully installed split-folders-0.5.1\n",
            "Mounted at /content/gdrive\n"
          ]
        }
      ],
      "source": [
        "# Importing Libraries\n",
        "import os\n",
        "import shutil\n",
        "import random\n",
        "!pip install split-folders\n",
        "import splitfolders\n",
        "import tensorflow as tf\n",
        "from tensorflow.keras.preprocessing.image import ImageDataGenerator\n",
        "from tensorflow.keras.applications import VGG16\n",
        "from tensorflow.keras.models import Sequential, Model\n",
        "from tensorflow.keras.layers import Input, Dense, Dropout, Flatten\n",
        "from tensorflow.keras.callbacks import EarlyStopping, ModelCheckpoint, ReduceLROnPlateau\n",
        "from sklearn.metrics import classification_report, confusion_matrix, roc_auc_score, roc_curve\n",
        "import matplotlib.pyplot as plt\n",
        "from google.colab import drive\n",
        "\n",
        "# Mount Google Drive\n",
        "drive.mount('/content/gdrive')"
      ]
    },
    {
      "cell_type": "code",
      "source": [
        "# Define Paths for Rook Project\n",
        "dataset_dir = \"/content/gdrive/My Drive/Datasets/Chess_Vision\"\n",
        "input_folder_binary = \"/content/gdrive/My Drive/Datasets/Chess_Vision_Binary_Rook_Input\"\n",
        "output_folder = \"/content/gdrive/My Drive/Datasets/Chess_Vision_Binary_Rook\""
      ],
      "metadata": {
        "id": "2KtBzjiqVOC4"
      },
      "execution_count": 8,
      "outputs": []
    },
    {
      "cell_type": "code",
      "source": [
        "# Function to Copy Files\n",
        "def copy_files(src, dst):\n",
        "    os.makedirs(dst, exist_ok=True)\n",
        "    for file in os.listdir(src):\n",
        "        shutil.copy(os.path.join(src, file), dst)\n",
        "\n",
        "# Prepare Dataset for Rook\n",
        "non_rook_dir = os.path.join(dataset_dir, \"Non_Rook\")\n",
        "if not os.path.exists(non_rook_dir):\n",
        "    os.makedirs(non_rook_dir)\n",
        "\n",
        "other_pieces = [\"Bishop\", \"Knight\", \"Queen\", \"King\", \"Pawn\"]\n",
        "num_images_per_class = 23\n",
        "\n",
        "# Copy images for Non_Rook class\n",
        "if len(os.listdir(non_rook_dir)) < 110:\n",
        "    for piece in other_pieces:\n",
        "        piece_dir = os.path.join(dataset_dir, piece)\n",
        "        images = random.sample(os.listdir(piece_dir), num_images_per_class)\n",
        "        for img in images:\n",
        "            shutil.copy(os.path.join(piece_dir, img), os.path.join(non_rook_dir, f\"{piece}_{img}\"))\n"
      ],
      "metadata": {
        "id": "cxjcpQcXVQIc"
      },
      "execution_count": 4,
      "outputs": []
    },
    {
      "cell_type": "code",
      "source": [
        "# Count Images for Rook\n",
        "rook_count = len(os.listdir(os.path.join(dataset_dir, \"Rook\")))\n",
        "non_rook_count = len(os.listdir(non_rook_dir))\n",
        "print(f\"Number of Rook images: {rook_count}\")\n",
        "print(f\"Number of Non_Rook images: {non_rook_count}\")\n"
      ],
      "metadata": {
        "colab": {
          "base_uri": "https://localhost:8080/"
        },
        "id": "Z3v1N9L3V2jT",
        "outputId": "de27a7e6-c5d7-4c6b-c6b8-0c35bf312851"
      },
      "execution_count": 5,
      "outputs": [
        {
          "output_type": "stream",
          "name": "stdout",
          "text": [
            "Number of Rook images: 102\n",
            "Number of Non_Rook images: 115\n"
          ]
        }
      ]
    },
    {
      "cell_type": "code",
      "source": [
        "# Prepare Input Directory for Binary Classification\n",
        "os.makedirs(input_folder_binary, exist_ok=True)\n",
        "copy_files(os.path.join(dataset_dir, \"Rook\"), os.path.join(input_folder_binary, \"Rook\"))\n",
        "copy_files(non_rook_dir, os.path.join(input_folder_binary, \"Non_Rook\"))\n",
        "\n",
        "# Split Dataset\n",
        "splitfolders.ratio(input_folder_binary, output=output_folder, seed=42, ratio=(.7, .2, .1))"
      ],
      "metadata": {
        "colab": {
          "base_uri": "https://localhost:8080/"
        },
        "id": "bAqGw9LmWE_u",
        "outputId": "a29f1dd9-8425-4d76-f3be-fdd2ab376570"
      },
      "execution_count": 9,
      "outputs": [
        {
          "output_type": "stream",
          "name": "stderr",
          "text": [
            "Copying files: 217 files [00:02, 82.46 files/s]\n"
          ]
        }
      ]
    },
    {
      "cell_type": "code",
      "source": [
        "# Image Data Generators\n",
        "train_datagen = ImageDataGenerator(\n",
        "    rescale=1./255,\n",
        "    rotation_range=20,\n",
        "    width_shift_range=0.1,\n",
        "    height_shift_range=0.1,\n",
        "    shear_range=0.1,\n",
        "    zoom_range=0.1,\n",
        "    horizontal_flip=True,\n",
        "    fill_mode='nearest'\n",
        ")\n",
        "\n",
        "val_test_datagen = ImageDataGenerator(rescale=1./255)  # Only rescaling for validation and test sets\n",
        "\n",
        "# Load images from directory and apply transformations\n",
        "train_generator = train_datagen.flow_from_directory(\n",
        "    os.path.join(output_folder, 'train'),\n",
        "    target_size=(224, 224),\n",
        "    batch_size=32,\n",
        "    class_mode='binary'\n",
        ")\n",
        "\n",
        "validation_generator = val_test_datagen.flow_from_directory(\n",
        "    os.path.join(output_folder, 'val'),\n",
        "    target_size=(224, 224),\n",
        "    batch_size=32,\n",
        "    class_mode='binary'\n",
        ")\n",
        "\n",
        "test_generator = val_test_datagen.flow_from_directory(\n",
        "    os.path.join(output_folder, 'test'),\n",
        "    target_size=(224, 224),\n",
        "    batch_size=32,\n",
        "    class_mode='binary',\n",
        "    shuffle=False  # Important for evaluation\n",
        ")\n"
      ],
      "metadata": {
        "colab": {
          "base_uri": "https://localhost:8080/"
        },
        "id": "ag6GfJF9WK7T",
        "outputId": "189d2af3-c03c-4597-91fa-44d440bb8cae"
      },
      "execution_count": 10,
      "outputs": [
        {
          "output_type": "stream",
          "name": "stdout",
          "text": [
            "Found 150 images belonging to 2 classes.\n",
            "Found 42 images belonging to 2 classes.\n",
            "Found 23 images belonging to 2 classes.\n"
          ]
        }
      ]
    },
    {
      "cell_type": "code",
      "source": [
        "# Image Data Generators\n",
        "train_datagen = ImageDataGenerator(\n",
        "    rescale=1./255,\n",
        "    rotation_range=20,\n",
        "    width_shift_range=0.1,\n",
        "    height_shift_range=0.1,\n",
        "    shear_range=0.1,\n",
        "    zoom_range=0.1,\n",
        "    horizontal_flip=True,\n",
        "    fill_mode='nearest'\n",
        ")\n",
        "\n",
        "val_test_datagen = ImageDataGenerator(rescale=1./255)  # Only rescaling for validation and test sets\n",
        "\n",
        "# Load images from directory and apply transformations\n",
        "train_generator = train_datagen.flow_from_directory(\n",
        "    os.path.join(output_folder, 'train'),\n",
        "    target_size=(224, 224),\n",
        "    batch_size=32,\n",
        "    class_mode='binary'\n",
        ")\n",
        "\n",
        "validation_generator = val_test_datagen.flow_from_directory(\n",
        "    os.path.join(output_folder, 'val'),\n",
        "    target_size=(224, 224),\n",
        "    batch_size=32,\n",
        "    class_mode='binary'\n",
        ")\n",
        "\n",
        "test_generator = val_test_datagen.flow_from_directory(\n",
        "    os.path.join(output_folder, 'test'),\n",
        "    target_size=(224, 224),\n",
        "    batch_size=32,\n",
        "    class_mode='binary',\n",
        "    shuffle=False  # Important for evaluation\n",
        ")\n"
      ],
      "metadata": {
        "colab": {
          "base_uri": "https://localhost:8080/"
        },
        "id": "9g-_BQB8WPrJ",
        "outputId": "ce5ce1c1-0f97-40c6-e801-1d80d30565dc"
      },
      "execution_count": 11,
      "outputs": [
        {
          "output_type": "stream",
          "name": "stdout",
          "text": [
            "Found 150 images belonging to 2 classes.\n",
            "Found 42 images belonging to 2 classes.\n",
            "Found 23 images belonging to 2 classes.\n"
          ]
        }
      ]
    },
    {
      "cell_type": "code",
      "source": [
        "# Load VGG16 model without the top layer\n",
        "base_model = VGG16(include_top=False, input_shape=(224, 224, 3), weights='imagenet')\n",
        "base_model.trainable = False  # Freeze the base model layers\n",
        "\n",
        "# Define the input layer\n",
        "inputs = Input(shape=(224, 224, 3))\n",
        "\n",
        "# Pass the image through the base model\n",
        "x = base_model(inputs, training=False)\n",
        "\n",
        "# Flatten the output of the base model\n",
        "x = Flatten()(x)\n",
        "\n",
        "# Additional layers\n",
        "x = Dense(256, activation='relu')(x)\n",
        "x = Dropout(0.4)(x)  # Updated dropout rate\n",
        "\n",
        "# Output layer for binary classification\n",
        "outputs = Dense(1, activation='sigmoid')(x)\n",
        "\n",
        "# Create the model\n",
        "binary_model = Model(inputs, outputs)\n",
        "\n",
        "# Compile the model\n",
        "binary_model.compile(loss=\"binary_crossentropy\",\n",
        "                     optimizer=tf.keras.optimizers.Adam(learning_rate=0.0001),  # Updated learning rate\n",
        "                     metrics=[\"accuracy\"])\n"
      ],
      "metadata": {
        "colab": {
          "base_uri": "https://localhost:8080/"
        },
        "id": "DQq9Om3kYFWk",
        "outputId": "e8abcc55-e8e7-41b5-9b54-11b261bc4080"
      },
      "execution_count": 14,
      "outputs": [
        {
          "output_type": "stream",
          "name": "stdout",
          "text": [
            "Downloading data from https://storage.googleapis.com/tensorflow/keras-applications/vgg16/vgg16_weights_tf_dim_ordering_tf_kernels_notop.h5\n",
            "58889256/58889256 [==============================] - 1s 0us/step\n"
          ]
        }
      ]
    },
    {
      "cell_type": "code",
      "source": [
        "# Callbacks\n",
        "model_checkpoint = ModelCheckpoint(\n",
        "    '/content/gdrive/My Drive/Datasets/knight_detector_best_model.h5',\n",
        "    save_best_only=True,\n",
        "    monitor='val_accuracy'\n",
        ")\n",
        "\n",
        "reduce_lr = ReduceLROnPlateau(\n",
        "    monitor='val_loss',\n",
        "    factor=0.2,\n",
        "    patience=5,\n",
        "    min_lr=0.01\n",
        ")\n",
        "\n",
        "early_stopping = EarlyStopping(monitor='val_loss', patience=5)\n"
      ],
      "metadata": {
        "id": "KeHgsXI0WQ-U"
      },
      "execution_count": 15,
      "outputs": []
    },
    {
      "cell_type": "code",
      "source": [
        "epochs = 10\n",
        "batch_size = 32\n",
        "\n",
        "history = binary_model.fit(\n",
        "    train_generator,\n",
        "    epochs=epochs,\n",
        "    validation_data=validation_generator,\n",
        "    callbacks=[model_checkpoint, reduce_lr, early_stopping]\n",
        ")\n"
      ],
      "metadata": {
        "colab": {
          "base_uri": "https://localhost:8080/"
        },
        "id": "MKssWbUeWSS0",
        "outputId": "94ad2159-5490-4033-a030-94a4e4bf761f"
      },
      "execution_count": 16,
      "outputs": [
        {
          "output_type": "stream",
          "name": "stdout",
          "text": [
            "Epoch 1/10\n",
            "5/5 [==============================] - ETA: 0s - loss: 0.8042 - accuracy: 0.5467 "
          ]
        },
        {
          "output_type": "stream",
          "name": "stderr",
          "text": [
            "/usr/local/lib/python3.10/dist-packages/keras/src/engine/training.py:3079: UserWarning: You are saving your model as an HDF5 file via `model.save()`. This file format is considered legacy. We recommend using instead the native Keras format, e.g. `model.save('my_model.keras')`.\n",
            "  saving_api.save_model(\n"
          ]
        },
        {
          "output_type": "stream",
          "name": "stdout",
          "text": [
            "\b\b\b\b\b\b\b\b\b\b\b\b\b\b\b\b\b\b\b\b\b\b\b\b\b\b\b\b\b\b\b\b\b\b\b\b\b\b\b\b\b\b\b\b\b\b\b\b\b\b\b\b\b\b\b\b\b\b\b\b\b\b\b\b\b\b\b\b\b\b\b\b\b\b\b\b\b\b\b\b\r5/5 [==============================] - 85s 17s/step - loss: 0.8042 - accuracy: 0.5467 - val_loss: 0.5576 - val_accuracy: 0.8095 - lr: 1.0000e-04\n",
            "Epoch 2/10\n",
            "5/5 [==============================] - 79s 17s/step - loss: 0.5060 - accuracy: 0.7667 - val_loss: 0.4753 - val_accuracy: 0.8571 - lr: 1.0000e-04\n",
            "Epoch 3/10\n",
            "5/5 [==============================] - 85s 17s/step - loss: 0.3622 - accuracy: 0.8533 - val_loss: 0.4186 - val_accuracy: 0.8333 - lr: 1.0000e-04\n",
            "Epoch 4/10\n",
            "5/5 [==============================] - 77s 16s/step - loss: 0.3162 - accuracy: 0.8800 - val_loss: 0.3905 - val_accuracy: 0.8571 - lr: 1.0000e-04\n",
            "Epoch 5/10\n",
            "5/5 [==============================] - 76s 17s/step - loss: 0.2556 - accuracy: 0.9133 - val_loss: 0.3817 - val_accuracy: 0.8571 - lr: 1.0000e-04\n",
            "Epoch 6/10\n",
            "5/5 [==============================] - 76s 16s/step - loss: 0.1999 - accuracy: 0.9200 - val_loss: 0.3893 - val_accuracy: 0.8333 - lr: 1.0000e-04\n",
            "Epoch 7/10\n",
            "5/5 [==============================] - 83s 19s/step - loss: 0.1849 - accuracy: 0.9467 - val_loss: 0.3700 - val_accuracy: 0.8810 - lr: 1.0000e-04\n",
            "Epoch 8/10\n",
            "5/5 [==============================] - 80s 17s/step - loss: 0.1577 - accuracy: 0.9533 - val_loss: 0.3878 - val_accuracy: 0.8333 - lr: 1.0000e-04\n",
            "Epoch 9/10\n",
            "5/5 [==============================] - 79s 18s/step - loss: 0.1395 - accuracy: 0.9667 - val_loss: 0.3474 - val_accuracy: 0.8571 - lr: 1.0000e-04\n",
            "Epoch 10/10\n",
            "5/5 [==============================] - 76s 16s/step - loss: 0.1199 - accuracy: 0.9600 - val_loss: 0.3335 - val_accuracy: 0.8571 - lr: 1.0000e-04\n"
          ]
        }
      ]
    },
    {
      "cell_type": "code",
      "source": [
        "# Evaluate the Model\n",
        "test_loss, test_accuracy = binary_model.evaluate(test_generator)\n",
        "print(f\"Test Accuracy: {test_accuracy * 100:.2f}%\")\n",
        "\n",
        "# Generate Predictions and Evaluate\n",
        "probabilities = binary_model.predict(test_generator)\n",
        "predictions = [1 if x > 0.5 else 0 for x in probabilities.ravel()]\n",
        "true_classes = test_generator.classes\n",
        "report = classification_report(true_classes, predictions, target_names=['Non_Rook', 'Rook'])\n",
        "print(report)\n",
        "\n",
        "# ROC-AUC Score and Curve\n",
        "roc_auc = roc_auc_score(true_classes, probabilities)\n",
        "fpr, tpr, thresholds = roc_curve(true_classes, probabilities)\n",
        "plt.figure()\n",
        "plt.plot(fpr, tpr, label=f'ROC Curve (area = {roc_auc:.2f})')\n",
        "plt.plot([0, 1], [0, 1], 'k--')\n",
        "plt.xlabel('False Positive Rate')\n",
        "plt.ylabel('True Positive Rate')\n",
        "plt.title('Receiver Operating Characteristic')\n",
        "plt.legend(loc=\"lower right\")\n",
        "plt.show()\n",
        "\n",
        "# Plot Training History\n",
        "plt.figure(figsize=(12, 4))\n",
        "plt.subplot(1, 2, 1)\n",
        "plt.plot(history.history['accuracy'], label='Train Accuracy')\n",
        "plt.plot(history.history['val_accuracy'], label='Validation Accuracy')\n",
        "plt.title('Accuracy over Epochs')\n",
        "plt.legend()\n",
        "plt.subplot(1, 2, 2)\n",
        "plt.plot(history.history['loss'], label='Train Loss')\n",
        "plt.plot(history.history['val_loss'], label='Validation Loss')\n",
        "plt.title('Loss over Epochs')\n",
        "plt.legend()\n",
        "plt.show()"
      ],
      "metadata": {
        "colab": {
          "base_uri": "https://localhost:8080/",
          "height": 246
        },
        "id": "-rdWwUc1WddU",
        "outputId": "8b702174-913f-4e35-8ee6-7dd481f619a0"
      },
      "execution_count": 1,
      "outputs": [
        {
          "output_type": "error",
          "ename": "NameError",
          "evalue": "ignored",
          "traceback": [
            "\u001b[0;31m---------------------------------------------------------------------------\u001b[0m",
            "\u001b[0;31mNameError\u001b[0m                                 Traceback (most recent call last)",
            "\u001b[0;32m<ipython-input-1-b007f61945b0>\u001b[0m in \u001b[0;36m<cell line: 2>\u001b[0;34m()\u001b[0m\n\u001b[1;32m      1\u001b[0m \u001b[0;31m# Evaluate the Model\u001b[0m\u001b[0;34m\u001b[0m\u001b[0;34m\u001b[0m\u001b[0m\n\u001b[0;32m----> 2\u001b[0;31m \u001b[0mtest_loss\u001b[0m\u001b[0;34m,\u001b[0m \u001b[0mtest_accuracy\u001b[0m \u001b[0;34m=\u001b[0m \u001b[0mbinary_model\u001b[0m\u001b[0;34m.\u001b[0m\u001b[0mevaluate\u001b[0m\u001b[0;34m(\u001b[0m\u001b[0mtest_generator\u001b[0m\u001b[0;34m)\u001b[0m\u001b[0;34m\u001b[0m\u001b[0;34m\u001b[0m\u001b[0m\n\u001b[0m\u001b[1;32m      3\u001b[0m \u001b[0mprint\u001b[0m\u001b[0;34m(\u001b[0m\u001b[0;34mf\"Test Accuracy: {test_accuracy * 100:.2f}%\"\u001b[0m\u001b[0;34m)\u001b[0m\u001b[0;34m\u001b[0m\u001b[0;34m\u001b[0m\u001b[0m\n\u001b[1;32m      4\u001b[0m \u001b[0;34m\u001b[0m\u001b[0m\n\u001b[1;32m      5\u001b[0m \u001b[0;31m# Generate Predictions and Evaluate\u001b[0m\u001b[0;34m\u001b[0m\u001b[0;34m\u001b[0m\u001b[0m\n",
            "\u001b[0;31mNameError\u001b[0m: name 'binary_model' is not defined"
          ]
        }
      ]
    }
  ]
}